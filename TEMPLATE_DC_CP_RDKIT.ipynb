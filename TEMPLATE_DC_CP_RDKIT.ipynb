{
  "nbformat": 4,
  "nbformat_minor": 0,
  "metadata": {
    "colab": {
      "name": "TEMPLATE_DC_CP_RDKIT.ipynb",
      "provenance": [],
      "collapsed_sections": [],
      "toc_visible": true,
      "mount_file_id": "1aWDyOr1B_dK0r5fgNcLpf7lC-f5Zusfx",
      "authorship_tag": "ABX9TyNFdzuSKwJ478A5+4B9GQdM",
      "include_colab_link": true
    },
    "kernelspec": {
      "name": "python3",
      "display_name": "Python 3"
    }
  },
  "cells": [
    {
      "cell_type": "markdown",
      "metadata": {
        "id": "view-in-github",
        "colab_type": "text"
      },
      "source": [
        "<a href=\"https://colab.research.google.com/github/JohnMommers/Template-DC-RK-CP/blob/main/TEMPLATE_DC_CP_RDKIT.ipynb\" target=\"_parent\"><img src=\"https://colab.research.google.com/assets/colab-badge.svg\" alt=\"Open In Colab\"/></a>"
      ]
    },
    {
      "cell_type": "markdown",
      "metadata": {
        "id": "YMtLgIaT9ntP"
      },
      "source": [
        "##TEMPLATE: INSTALL AND IMPORT DEEPCHEM, RDKIT, CIRPY \r\n"
      ]
    },
    {
      "cell_type": "markdown",
      "metadata": {
        "id": "mbOCtUjZ-QV0"
      },
      "source": [
        "##Import lib  \r\n",
        "Install deepchem and rdkit first: see end of this script"
      ]
    },
    {
      "cell_type": "code",
      "metadata": {
        "colab": {
          "base_uri": "https://localhost:8080/"
        },
        "id": "O36HBaYA-PrH",
        "outputId": "111d385e-6805-46fc-9800-308155fdaf88"
      },
      "source": [
        "import numpy as np\r\n",
        "import pandas as pd\r\n",
        "\r\n",
        "import deepchem as dc           \r\n",
        "from sklearn.ensemble import RandomForestRegressor\r\n",
        "import matplotlib.pyplot as plt\r\n",
        "\r\n",
        "import cirpy as cp\r\n",
        "\r\n",
        "import rdkit as rk\r\n",
        "from rdkit.Chem import Descriptors\r\n",
        "from rdkit.Chem import AllChem\r\n",
        "from rdkit import Chem\r\n",
        "from rdkit.Chem import rdMolDescriptors\r\n",
        "from rdkit.Chem.Draw import IPythonConsole\r\n",
        "from rdkit.Chem import Draw\r\n",
        "\r\n",
        "print (f'CHECK VERSIONS   deepchem: {dc.__version__}   cirpy: {cp.__version__}    rdkit: {rk.__version__}')"
      ],
      "execution_count": 19,
      "outputs": [
        {
          "output_type": "stream",
          "text": [
            "CHECK VERSIONS   deepchem: 2.5.0.dev   cirpy: 1.0.2    rdkit: 2020.09.1\n"
          ],
          "name": "stdout"
        }
      ]
    },
    {
      "cell_type": "markdown",
      "metadata": {
        "id": "rBY1eyEt_xfw"
      },
      "source": [
        "##Load dataset"
      ]
    },
    {
      "cell_type": "code",
      "metadata": {
        "id": "UdPGRQxDADZ2"
      },
      "source": [
        "# OPEN FILE BY USING PICKLE\r\n",
        "# LOAD DATA ON GOOGLE DRIVE\r\n",
        "ms = pd.read_pickle('/content/drive/MyDrive/NIST/nist_08_CH_clean_with_smiles')\r\n",
        "ms.head()"
      ],
      "execution_count": null,
      "outputs": []
    },
    {
      "cell_type": "markdown",
      "metadata": {
        "id": "IKpiJFqa92Dc"
      },
      "source": [
        "## Install libraries  \r\n",
        "To be done first."
      ]
    },
    {
      "cell_type": "code",
      "metadata": {
        "colab": {
          "base_uri": "https://localhost:8080/"
        },
        "id": "4TrL72ca95he",
        "outputId": "79b7d78c-d6bb-44df-bf09-6b1f7ac9da8a"
      },
      "source": [
        "!curl -Lo conda_installer.py https://raw.githubusercontent.com/deepchem/deepchem/master/scripts/colab_install.py\r\n",
        "import conda_installer\r\n",
        "conda_installer.install()\r\n",
        "!/root/miniconda/bin/conda info -e"
      ],
      "execution_count": 1,
      "outputs": [
        {
          "output_type": "stream",
          "text": [
            "  % Total    % Received % Xferd  Average Speed   Time    Time     Time  Current\n",
            "                                 Dload  Upload   Total   Spent    Left  Speed\n",
            "\r  0     0    0     0    0     0      0      0 --:--:-- --:--:-- --:--:--     0\r  0     0    0     0    0     0      0      0 --:--:-- --:--:-- --:--:--     0\r100  3490  100  3490    0     0  21280      0 --:--:-- --:--:-- --:--:-- 21280\n"
          ],
          "name": "stdout"
        },
        {
          "output_type": "stream",
          "text": [
            "add /root/miniconda/lib/python3.6/site-packages to PYTHONPATH\n",
            "python version: 3.6.9\n",
            "fetching installer from https://repo.continuum.io/miniconda/Miniconda3-latest-Linux-x86_64.sh\n",
            "done\n",
            "installing miniconda to /root/miniconda\n",
            "done\n",
            "installing rdkit, openmm, pdbfixer\n",
            "added conda-forge to channels\n",
            "added omnia to channels\n",
            "done\n",
            "conda packages installation finished!\n"
          ],
          "name": "stderr"
        },
        {
          "output_type": "stream",
          "text": [
            "# conda environments:\n",
            "#\n",
            "base                  *  /root/miniconda\n",
            "\n"
          ],
          "name": "stdout"
        }
      ]
    },
    {
      "cell_type": "code",
      "metadata": {
        "colab": {
          "base_uri": "https://localhost:8080/"
        },
        "id": "ONQ-4o_W95N9",
        "outputId": "f957908a-ca73-4529-e4a3-fa680c25ffe5"
      },
      "source": [
        "!pip install --pre deepchem"
      ],
      "execution_count": 2,
      "outputs": [
        {
          "output_type": "stream",
          "text": [
            "Collecting deepchem\n",
            "\u001b[?25l  Downloading https://files.pythonhosted.org/packages/6d/8c/b9565ff7aaa043464e3c032e3b540a1524f4a89005e4d760c0feeebec4b0/deepchem-2.5.0.dev20210129140048-py3-none-any.whl (533kB)\n",
            "\r\u001b[K     |▋                               | 10kB 12.7MB/s eta 0:00:01\r\u001b[K     |█▎                              | 20kB 13.9MB/s eta 0:00:01\r\u001b[K     |█▉                              | 30kB 9.9MB/s eta 0:00:01\r\u001b[K     |██▌                             | 40kB 8.5MB/s eta 0:00:01\r\u001b[K     |███                             | 51kB 5.3MB/s eta 0:00:01\r\u001b[K     |███▊                            | 61kB 5.7MB/s eta 0:00:01\r\u001b[K     |████▎                           | 71kB 5.7MB/s eta 0:00:01\r\u001b[K     |█████                           | 81kB 6.0MB/s eta 0:00:01\r\u001b[K     |█████▌                          | 92kB 6.0MB/s eta 0:00:01\r\u001b[K     |██████▏                         | 102kB 5.0MB/s eta 0:00:01\r\u001b[K     |██████▊                         | 112kB 5.0MB/s eta 0:00:01\r\u001b[K     |███████▍                        | 122kB 5.0MB/s eta 0:00:01\r\u001b[K     |████████                        | 133kB 5.0MB/s eta 0:00:01\r\u001b[K     |████████▋                       | 143kB 5.0MB/s eta 0:00:01\r\u001b[K     |█████████▏                      | 153kB 5.0MB/s eta 0:00:01\r\u001b[K     |█████████▉                      | 163kB 5.0MB/s eta 0:00:01\r\u001b[K     |██████████▍                     | 174kB 5.0MB/s eta 0:00:01\r\u001b[K     |███████████                     | 184kB 5.0MB/s eta 0:00:01\r\u001b[K     |███████████▋                    | 194kB 5.0MB/s eta 0:00:01\r\u001b[K     |████████████▎                   | 204kB 5.0MB/s eta 0:00:01\r\u001b[K     |█████████████                   | 215kB 5.0MB/s eta 0:00:01\r\u001b[K     |█████████████▌                  | 225kB 5.0MB/s eta 0:00:01\r\u001b[K     |██████████████▏                 | 235kB 5.0MB/s eta 0:00:01\r\u001b[K     |██████████████▊                 | 245kB 5.0MB/s eta 0:00:01\r\u001b[K     |███████████████▍                | 256kB 5.0MB/s eta 0:00:01\r\u001b[K     |████████████████                | 266kB 5.0MB/s eta 0:00:01\r\u001b[K     |████████████████▋               | 276kB 5.0MB/s eta 0:00:01\r\u001b[K     |█████████████████▏              | 286kB 5.0MB/s eta 0:00:01\r\u001b[K     |█████████████████▉              | 296kB 5.0MB/s eta 0:00:01\r\u001b[K     |██████████████████▍             | 307kB 5.0MB/s eta 0:00:01\r\u001b[K     |███████████████████             | 317kB 5.0MB/s eta 0:00:01\r\u001b[K     |███████████████████▋            | 327kB 5.0MB/s eta 0:00:01\r\u001b[K     |████████████████████▎           | 337kB 5.0MB/s eta 0:00:01\r\u001b[K     |████████████████████▉           | 348kB 5.0MB/s eta 0:00:01\r\u001b[K     |█████████████████████▌          | 358kB 5.0MB/s eta 0:00:01\r\u001b[K     |██████████████████████          | 368kB 5.0MB/s eta 0:00:01\r\u001b[K     |██████████████████████▊         | 378kB 5.0MB/s eta 0:00:01\r\u001b[K     |███████████████████████▎        | 389kB 5.0MB/s eta 0:00:01\r\u001b[K     |████████████████████████        | 399kB 5.0MB/s eta 0:00:01\r\u001b[K     |████████████████████████▋       | 409kB 5.0MB/s eta 0:00:01\r\u001b[K     |█████████████████████████▏      | 419kB 5.0MB/s eta 0:00:01\r\u001b[K     |█████████████████████████▉      | 430kB 5.0MB/s eta 0:00:01\r\u001b[K     |██████████████████████████▍     | 440kB 5.0MB/s eta 0:00:01\r\u001b[K     |███████████████████████████     | 450kB 5.0MB/s eta 0:00:01\r\u001b[K     |███████████████████████████▋    | 460kB 5.0MB/s eta 0:00:01\r\u001b[K     |████████████████████████████▎   | 471kB 5.0MB/s eta 0:00:01\r\u001b[K     |████████████████████████████▉   | 481kB 5.0MB/s eta 0:00:01\r\u001b[K     |█████████████████████████████▌  | 491kB 5.0MB/s eta 0:00:01\r\u001b[K     |██████████████████████████████  | 501kB 5.0MB/s eta 0:00:01\r\u001b[K     |██████████████████████████████▊ | 512kB 5.0MB/s eta 0:00:01\r\u001b[K     |███████████████████████████████▎| 522kB 5.0MB/s eta 0:00:01\r\u001b[K     |████████████████████████████████| 532kB 5.0MB/s eta 0:00:01\r\u001b[K     |████████████████████████████████| 542kB 5.0MB/s \n",
            "\u001b[?25hRequirement already satisfied: pandas in /usr/local/lib/python3.6/dist-packages (from deepchem) (1.1.5)\n",
            "Requirement already satisfied: numpy in /usr/local/lib/python3.6/dist-packages (from deepchem) (1.19.5)\n",
            "Requirement already satisfied: scipy in /usr/local/lib/python3.6/dist-packages (from deepchem) (1.4.1)\n",
            "Requirement already satisfied: scikit-learn in /usr/local/lib/python3.6/dist-packages (from deepchem) (0.22.2.post1)\n",
            "Requirement already satisfied: joblib in /usr/local/lib/python3.6/dist-packages (from deepchem) (1.0.0)\n",
            "Requirement already satisfied: pytz>=2017.2 in /usr/local/lib/python3.6/dist-packages (from pandas->deepchem) (2018.9)\n",
            "Requirement already satisfied: python-dateutil>=2.7.3 in /usr/local/lib/python3.6/dist-packages (from pandas->deepchem) (2.8.1)\n",
            "Requirement already satisfied: six>=1.5 in /usr/local/lib/python3.6/dist-packages (from python-dateutil>=2.7.3->pandas->deepchem) (1.15.0)\n",
            "Installing collected packages: deepchem\n",
            "Successfully installed deepchem-2.5.0.dev20210129140048\n"
          ],
          "name": "stdout"
        }
      ]
    },
    {
      "cell_type": "code",
      "metadata": {
        "colab": {
          "base_uri": "https://localhost:8080/"
        },
        "id": "j4oSUXUs95Ke",
        "outputId": "ddd68fec-2d85-4f7b-a753-60bed0cf4104"
      },
      "source": [
        "!pip install cirpy"
      ],
      "execution_count": 7,
      "outputs": [
        {
          "output_type": "stream",
          "text": [
            "Requirement already satisfied: cirpy in /usr/local/lib/python3.6/dist-packages (1.0.2)\n"
          ],
          "name": "stdout"
        }
      ]
    }
  ]
}